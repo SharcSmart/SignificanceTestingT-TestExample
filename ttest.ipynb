{
 "cells": [
  {
   "cell_type": "code",
   "execution_count": 1,
   "id": "530d32d3",
   "metadata": {},
   "outputs": [
    {
     "data": {
      "text/html": [
       "<div>\n",
       "<style scoped>\n",
       "    .dataframe tbody tr th:only-of-type {\n",
       "        vertical-align: middle;\n",
       "    }\n",
       "\n",
       "    .dataframe tbody tr th {\n",
       "        vertical-align: top;\n",
       "    }\n",
       "\n",
       "    .dataframe thead th {\n",
       "        text-align: right;\n",
       "    }\n",
       "</style>\n",
       "<table border=\"1\" class=\"dataframe\">\n",
       "  <thead>\n",
       "    <tr style=\"text-align: right;\">\n",
       "      <th></th>\n",
       "      <th>Salesperson</th>\n",
       "      <th>Before Training Sales (k$)</th>\n",
       "      <th>After Training Sales (k$)</th>\n",
       "      <th>Difference (After - Before)</th>\n",
       "    </tr>\n",
       "  </thead>\n",
       "  <tbody>\n",
       "    <tr>\n",
       "      <th>0</th>\n",
       "      <td>1</td>\n",
       "      <td>52</td>\n",
       "      <td>58</td>\n",
       "      <td>6</td>\n",
       "    </tr>\n",
       "    <tr>\n",
       "      <th>1</th>\n",
       "      <td>2</td>\n",
       "      <td>45</td>\n",
       "      <td>49</td>\n",
       "      <td>4</td>\n",
       "    </tr>\n",
       "    <tr>\n",
       "      <th>2</th>\n",
       "      <td>3</td>\n",
       "      <td>61</td>\n",
       "      <td>65</td>\n",
       "      <td>4</td>\n",
       "    </tr>\n",
       "    <tr>\n",
       "      <th>3</th>\n",
       "      <td>4</td>\n",
       "      <td>75</td>\n",
       "      <td>74</td>\n",
       "      <td>-1</td>\n",
       "    </tr>\n",
       "    <tr>\n",
       "      <th>4</th>\n",
       "      <td>5</td>\n",
       "      <td>55</td>\n",
       "      <td>60</td>\n",
       "      <td>5</td>\n",
       "    </tr>\n",
       "  </tbody>\n",
       "</table>\n",
       "</div>"
      ],
      "text/plain": [
       "   Salesperson  Before Training Sales (k$)  After Training Sales (k$)  \\\n",
       "0            1                          52                         58   \n",
       "1            2                          45                         49   \n",
       "2            3                          61                         65   \n",
       "3            4                          75                         74   \n",
       "4            5                          55                         60   \n",
       "\n",
       "   Difference (After - Before)  \n",
       "0                            6  \n",
       "1                            4  \n",
       "2                            4  \n",
       "3                           -1  \n",
       "4                            5  "
      ]
     },
     "execution_count": 1,
     "metadata": {},
     "output_type": "execute_result"
    }
   ],
   "source": [
    "# Load the data\n",
    "import pandas as pd\n",
    "\n",
    "# Load the CSV file into a pandas DataFrame\n",
    "df = pd.read_csv('example.csv')\n",
    "\n",
    "# Display the first few rows\n",
    "df.head()"
   ]
  },
  {
   "cell_type": "code",
   "execution_count": 13,
   "id": "b29f5fe3",
   "metadata": {},
   "outputs": [],
   "source": [
    "# Calculate the mean and standard deviation\n",
    "df[\"diff\"] = df[\"Difference (After - Before)\"]\n",
    "mean_diff = df[\"diff\"].mean()\n",
    "mean_diff2 = df[\"diff\"].sum() / len(df)\n",
    "std_diff = df[\"diff\"].std()\n",
    "std_diff2 = (((df[\"diff\"]-mean_diff) ** 2).sum() / (len(df) - 1)) ** 0.5"
   ]
  },
  {
   "cell_type": "code",
   "execution_count": null,
   "id": "ec57d83b",
   "metadata": {},
   "outputs": [],
   "source": [
    "# Calculate the t-statistic\n",
    "n = len(df)\n",
    "t_statistic = mean_diff / (std_diff / (n ** 0.5))"
   ]
  },
  {
   "cell_type": "code",
   "execution_count": null,
   "id": "444d625d",
   "metadata": {},
   "outputs": [],
   "source": [
    "# Calculate the p-value\n",
    "from scipy import stats\n",
    "p_value = 2 * (1 - stats.t.cdf(abs(t_statistic), df=n-1))\n",
    "\n",
    "# Conclusion since p value is 0.001744 and therefore << 0.05, we reject the null hypothesis"
   ]
  }
 ],
 "metadata": {
  "kernelspec": {
   "display_name": "venvttest",
   "language": "python",
   "name": "python3"
  },
  "language_info": {
   "codemirror_mode": {
    "name": "ipython",
    "version": 3
   },
   "file_extension": ".py",
   "mimetype": "text/x-python",
   "name": "python",
   "nbconvert_exporter": "python",
   "pygments_lexer": "ipython3",
   "version": "3.9.6"
  }
 },
 "nbformat": 4,
 "nbformat_minor": 5
}
